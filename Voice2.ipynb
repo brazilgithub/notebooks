{
  "nbformat": 4,
  "nbformat_minor": 0,
  "metadata": {
    "colab": {
      "name": "Cópia de VoiceCloningColab.ipynb",
      "private_outputs": true,
      "provenance": [],
      "collapsed_sections": [],
      "include_colab_link": true
    },
    "kernelspec": {
      "name": "python3",
      "display_name": "Python 3"
    },
    "language_info": {
      "name": "python"
    },
    "accelerator": "GPU"
  },
  "cells": [
    {
      "cell_type": "markdown",
      "metadata": {
        "id": "view-in-github",
        "colab_type": "text"
      },
      "source": [
        "<a href=\"https://colab.research.google.com/github/brazilgithub/notebooks/blob/main/Voice2.ipynb\" target=\"_parent\"><img src=\"https://colab.research.google.com/assets/colab-badge.svg\" alt=\"Open In Colab\"/></a>"
      ]
    },
    {
      "cell_type": "markdown",
      "metadata": {
        "id": "XW69tiHUPKZQ"
      },
      "source": [
        "# **Voice Cloning App**\n",
        "* *Change runtime type to GPU*\n",
        "*  https://github.com/BenAAndrew/Voice-Cloning-App"
      ]
    },
    {
      "cell_type": "markdown",
      "metadata": {
        "id": "dVapejORklxi"
      },
      "source": [
        "***Create dataset, train & synthesize model using colab. A contribution.*** *(Runs in, and saves to Google Drive now.)* "
      ]
    },
    {
      "cell_type": "markdown",
      "metadata": {
        "id": "rZM5RKKlxHbx"
      },
      "source": [
        "notebook is a partially deprecated alternative. [Official Training Notebook.](https://colab.research.google.com/drive/1hWumSuaZjommzkhyGKpxrm_KBSJAY68q?usp=sharing#scrollTo=4M-x3k6qQiRs)"
      ]
    },
    {
      "cell_type": "markdown",
      "metadata": {
        "id": "M1KbqEqJlgNr"
      },
      "source": [
        "## **Prevent random disconnects**"
      ]
    },
    {
      "cell_type": "code",
      "metadata": {
        "id": "yUSgIkzhlfEl"
      },
      "source": [
        "import IPython\n",
        "from google.colab import output\n",
        "\n",
        "display(IPython.display.Javascript('''\n",
        " function ClickConnect(){\n",
        "   btn = document.querySelector(\"colab-connect-button\")\n",
        "   if (btn != null){\n",
        "     console.log(\"Click colab-connect-button\"); \n",
        "     btn.click() \n",
        "     }\n",
        "   \n",
        "   btn = document.getElementById('ok')\n",
        "   if (btn != null){\n",
        "     console.log(\"Click reconnect\"); \n",
        "     btn.click() \n",
        "     }\n",
        "  }\n",
        "  \n",
        "setInterval(ClickConnect,60000)\n",
        "'''))\n",
        "\n",
        "print(\"Done.\")"
      ],
      "execution_count": null,
      "outputs": []
    },
    {
      "cell_type": "code",
      "metadata": {
        "id": "EpVGXa-hcjxk"
      },
      "source": [
        "#@title Check GPU (Do _Runtime>Factory reset runtime_ if it is a K80 / P4.)\n",
        "!nvidia-smi -L"
      ],
      "execution_count": null,
      "outputs": []
    },
    {
      "cell_type": "markdown",
      "metadata": {
        "id": "rRj1qqaD9xwc"
      },
      "source": [
        "## Start"
      ]
    },
    {
      "cell_type": "code",
      "metadata": {
        "id": "Cy7-uge8WL3l",
        "cellView": "form"
      },
      "source": [
        "#@title Installation + Mount GDrive(ETA: 3.4 Min)\n",
        "from google.colab import drive\n",
        "drive.mount('/content/drive', force_remount=True)\n",
        "%cd /content/drive/MyDrive\n",
        "%cd ./Voice-Cloning-App\n",
        "!pip install flask-ngrok\n",
        "!pip install -r requirements.txt\n",
        "#!pip install flask-ngrok python-engineio flask_socketio pydub webrtcvad omegaconf unidecode\n",
        "#!pip install torch==1.8.1+cu111 torchvision==0.9.1+cu111 torchaudio===0.8.1 -f https://download.pytorch.org/whl/torch_stable.html\n",
        "%cd /content\n",
        "!wget -q -c -nc https://bin.equinox.io/c/4VmDzA7iaHb/ngrok-stable-linux-amd64.zip\n",
        "!unzip -qq -n ngrok-stable-linux-amd64.zip"
      ],
      "execution_count": null,
      "outputs": []
    },
    {
      "cell_type": "markdown",
      "metadata": {
        "id": "23sIwN1CP_Um"
      },
      "source": [
        "### Application"
      ]
    },
    {
      "cell_type": "markdown",
      "metadata": {
        "id": "rSj1cL76trB4"
      },
      "source": [
        "**Might have to run this cell two times:**"
      ]
    },
    {
      "cell_type": "code",
      "metadata": {
        "id": "kqVaqcVaPlhV",
        "cellView": "form"
      },
      "source": [
        "#@title Retrieve Ngrok Link\n",
        "%cd /content\n",
        "get_ipython().system_raw('./ngrok http 5000 &')\n",
        "!curl -s http://localhost:4040/api/tunnels | python3 -c \\\n",
        "'import sys, json; print(\"Run the cell below, before clicking this URL: \" +json.load(sys.stdin)[\"tunnels\"][0][\"public_url\"])'"
      ],
      "execution_count": null,
      "outputs": []
    },
    {
      "cell_type": "code",
      "metadata": {
        "id": "S6Si0YUqPyHy"
      },
      "source": [
        "#@title Run Voice-Cloning-App\n",
        "%cd /content/drive/MyDrive/Voice-Cloning-App\n",
        "print(\"Use the link above instead.\")\n",
        "print(\"Use the link above instead.\")\n",
        "!python main.py"
      ],
      "execution_count": null,
      "outputs": []
    },
    {
      "cell_type": "markdown",
      "metadata": {
        "id": "lsCpBqJaNwUB"
      },
      "source": [
        "**To restart the app, run the two cells in order again.**"
      ]
    },
    {
      "cell_type": "markdown",
      "metadata": {
        "id": "31zDNrmPYXeh"
      },
      "source": [
        "###Training Information"
      ]
    },
    {
      "cell_type": "markdown",
      "metadata": {
        "id": "QnQUnz9PP6B3"
      },
      "source": [
        "**Recommended to set batch size in training the highest, before getting an OOM error. In *Advanced options.*** "
      ]
    },
    {
      "cell_type": "code",
      "metadata": {
        "id": "G49i2z8mm4Zf",
        "cellView": "form"
      },
      "source": [
        "#@title GPU info (Includes Memory Amount)\n",
        "!nvidia-smi"
      ],
      "execution_count": null,
      "outputs": []
    },
    {
      "cell_type": "markdown",
      "metadata": {
        "id": "9PDE9RiyYpM1"
      },
      "source": [
        "**Train on multiple google accounts.** \n",
        "<p>Use this colab notebook on a different account. Then mount drive using the original account which includes all data."
      ]
    },
    {
      "cell_type": "markdown",
      "metadata": {
        "id": "1Gk61QMooSfl"
      },
      "source": [
        "`70`"
      ]
    }
  ]
}