{
  "nbformat": 4,
  "nbformat_minor": 0,
  "metadata": {
    "colab": {
      "name": "Untitled2.ipynb",
      "provenance": []
    },
    "kernelspec": {
      "name": "python3",
      "display_name": "Python 3"
    }
  },
  "cells": [
    {
      "cell_type": "markdown",
      "metadata": {
        "id": "3tjNuQWc46oA"
      },
      "source": [
        "##**PREVINIR DESCONEXÕES**\n"
      ]
    },
    {
      "cell_type": "code",
      "metadata": {
        "id": "EFPCXElF3NHK"
      },
      "source": [
        "import IPython\n",
        "from google.colab import output\n",
        "\n",
        "display(IPython.display.Javascript('''\n",
        " function ClickConnect(){\n",
        "   btn = document.querySelector(\"colab-connect-button\")\n",
        "   if (btn != null){\n",
        "     console.log(\"Click colab-connect-button\"); \n",
        "     btn.click() \n",
        "     }\n",
        "   \n",
        "   btn = document.getElementById('ok')\n",
        "   if (btn != null){\n",
        "     console.log(\"Click reconnect\"); \n",
        "     btn.click() \n",
        "     }\n",
        "  }\n",
        "  \n",
        "setInterval(ClickConnect,60000)\n",
        "'''))\n",
        "\n",
        "print(\"Done.\")"
      ],
      "execution_count": null,
      "outputs": []
    },
    {
      "cell_type": "markdown",
      "metadata": {
        "id": "o4KXO5Xe4wAP"
      },
      "source": [
        "##**LISTA DE BANCOS E DOWNLOAD DO MEGA**\n",
        "**Banco 10:** https://mega.nz/file/5wJWxDLL#vb_uc_mAoHNcdtUPP5HeYyKDkyj6JlUn1h6gdB0lJZY\n",
        "<br>**Banco 09:** https://mega.nz/file/d0ZCHbjI#yC6848syuvW9M2Oyq2ETuVMsx5d7HOXSR0VLH_XNE4M\n",
        "<br>**Banco 08:** https://mega.nz/file/x9JSWRAR#gW9bqYg58S_lBb_V6CgtSoug2e5PNIhvl214jRkdBWY\n",
        "<br>**Banco 07:** https://mega.nz/file/RpIiALrZ#VoZyLJDoob1T3Q_QdZF5SlcXYCQHox_Ck6XTa3roIG4\n",
        "<br>**Banco 06:** https://mega.nz/file/V0BkHJjB#dHsxmhMs1yTbHVXbzVQRLISXG4RvMoBkxiO0lSL4fyg\n",
        "<br>**Banco 05:** https://mega.nz/file/xsIQAbTD#I-LBiOWAKfpo_fZnM-8a7cit1bpnd3FeI6Y8Bez0MiI\n",
        "<br>**Banco 04:** https://mega.nz/file/kwIAhDLL#p3W_KqWMut3mBON59U2jlpGEHQLX9rkeYXxVqLpjd5g\n",
        "<br>**Banco 03:** https://mega.nz/file/ktJQGRpb#AykSbRiGbWsG1LweLf_5rjvcGE4Nthf50ERctLCY-Qo\n",
        "<br>**Banco 02:** https://mega.nz/file/p1JE3TyA#zAg4iGUcGsprORs-5zqafqtGL1oWlHsgNLpqsbRkcIM"
      ]
    },
    {
      "cell_type": "code",
      "metadata": {
        "id": "XlDyLy_JZJ03",
        "cellView": "form"
      },
      "source": [
        "import sys, os, urllib.request\n",
        "import time\n",
        "import subprocess\n",
        "import contextlib\n",
        "from IPython.display import clear_output\n",
        "#@markdown <br><center><img src='https://mega.nz/favicon.ico?v=3' height=\"50\" alt=\"MEGA-logo\"/></center>\n",
        "#@markdown <center><h2>DOWNLOAD DO MEGA.NZ</h2></center><br>\n",
        "HOME = os.path.expanduser(\"~\")\n",
        "if not os.path.exists(f\"{HOME}/.ipython/ocr.py\"):\n",
        "    hCode = \"https://raw.githubusercontent.com/biplobsd/\" \\\n",
        "                \"OneClickRun/master/res/ocr.py\"\n",
        "    urllib.request.urlretrieve(hCode, f\"{HOME}/.ipython/ocr.py\")\n",
        "\n",
        "from ocr import (\n",
        "    runSh,\n",
        "    loadingAn,\n",
        ")\n",
        "#@title MEGA public link download\n",
        "URL = \"https://mega.nz/file/5wJWxDLL#vb_uc_mAoHNcdtUPP5HeYyKDkyj6JlUn1h6gdB0lJZY\" #@param {type:\"string\"}\n",
        "OUTPUT_PATH = \"/content/mega\" #@param {type:\"string\"}\n",
        "if not OUTPUT_PATH:\n",
        "  os.makedirs(\"downloads\", exist_ok=True)\n",
        "  OUTPUT_PATH = \"downloads\"\n",
        "# MEGAcmd installing\n",
        "if not os.path.exists(\"/usr/bin/mega-cmd\"):\n",
        "    loadingAn()\n",
        "    print(\"Installing MEGA ...\")\n",
        "    runSh('sudo apt-get -y update')\n",
        "    runSh('sudo apt-get -y install libmms0 libc-ares2 libc6 libcrypto++6 libgcc1 libmediainfo0v5 libpcre3 libpcrecpp0v5 libssl1.1 libstdc++6 libzen0v5 zlib1g apt-transport-https')\n",
        "    runSh('sudo curl -sL -o /var/cache/apt/archives/MEGAcmd.deb https://mega.nz/linux/MEGAsync/Debian_9.0/amd64/megacmd-Debian_9.0_amd64.deb', output=True)\n",
        "    runSh('sudo dpkg -i /var/cache/apt/archives/MEGAcmd.deb', output=True)\n",
        "    print(\"MEGA is installed.\")\n",
        "    clear_output()\n",
        "\n",
        "# Unix, Windows and old Macintosh end-of-line\n",
        "newlines = ['\\n', '\\r\\n', '\\r']\n",
        "\n",
        "def unbuffered(proc, stream='stdout'):\n",
        "    stream = getattr(proc, stream)\n",
        "    with contextlib.closing(stream):\n",
        "        while True:\n",
        "            out = []\n",
        "            last = stream.read(1)\n",
        "            # Don't loop forever\n",
        "            if last == '' and proc.poll() is not None:\n",
        "                break\n",
        "            while last not in newlines:\n",
        "                # Don't loop forever\n",
        "                if last == '' and proc.poll() is not None:\n",
        "                    break\n",
        "                out.append(last)\n",
        "                last = stream.read(1)\n",
        "            out = ''.join(out)\n",
        "            yield out\n",
        "\n",
        "\n",
        "def transfare():\n",
        "    import codecs\n",
        "    decoder = codecs.getincrementaldecoder(\"UTF-8\")()\n",
        "    cmd = [\"mega-get\", URL, OUTPUT_PATH]\n",
        "    proc = subprocess.Popen(\n",
        "        cmd,\n",
        "        stdout=subprocess.PIPE,\n",
        "        stderr=subprocess.STDOUT,\n",
        "        # Make all end-of-lines '\\n'\n",
        "        universal_newlines=True,\n",
        "    )\n",
        "    for line in unbuffered(proc):\n",
        "        print(line)\n",
        "        \n",
        "\n",
        "\n",
        "transfare()\n",
        "\n"
      ],
      "execution_count": null,
      "outputs": []
    },
    {
      "cell_type": "markdown",
      "metadata": {
        "id": "CjUPcYUH6IpL"
      },
      "source": [
        ""
      ]
    },
    {
      "cell_type": "markdown",
      "metadata": {
        "id": "rmJ704js5DEw"
      },
      "source": [
        "##**INSTALAR STYLEGAN2**\n"
      ]
    },
    {
      "cell_type": "code",
      "metadata": {
        "id": "btqS4viN5Oci"
      },
      "source": [
        "#SKIP this if you already have a stylegan2 folder in your google drive\n",
        "!git clone https://github.com/dvschultz/stylegan2\n",
        "%cd stylegan2\n",
        "!mkdir pkl\n",
        "%cd pkl\n",
        "!gdown --id 1JLqXE5bGZnlu2BkbLPD5_ZxoO3Nz-AvF #inception: https://drive.google.com/open?id=1JLqXE5bGZnlu2BkbLPD5_ZxoO3Nz-AvF\n",
        "%cd ../\n",
        "!mkdir results\n",
        "!mkdir results/00001-pretrained\n",
        "%cd results/00001-pretrained\n",
        "!gdown --id 1UlDmJVLLnBD9SnLSMXeiZRO6g-OMQCA_\n",
        "!mv stylegan2-ffhq-config-f.pkl network-snapshot-10000.pkl\n",
        "%cd ../../\n",
        "%mkdir datasets"
      ],
      "execution_count": null,
      "outputs": []
    },
    {
      "cell_type": "markdown",
      "metadata": {
        "id": "n6F9pybR5uPl"
      },
      "source": [
        "##**CONFIGURAR TENSORFLOW 1.15**"
      ]
    },
    {
      "cell_type": "code",
      "metadata": {
        "id": "RCFHIuEY5vzf"
      },
      "source": [
        "%tensorflow_version 1.x"
      ],
      "execution_count": null,
      "outputs": []
    },
    {
      "cell_type": "markdown",
      "metadata": {
        "id": "tAW6g0Yw6dMw"
      },
      "source": [
        "##**CONVERTER BANCO DE DADOS**\n",
        "StyleGAN exige que você converta suas imagens padrão jpg ou png em um novo formato (.tfrecords). Pule essa fase se já tiver um banco de dados. "
      ]
    },
    {
      "cell_type": "code",
      "metadata": {
        "id": "j2rYD8266gyF"
      },
      "source": [
        "#2nd argument is where to put your tfrecords files\n",
        "#3rd should point at your image dataset\n",
        "!python dataset_tool.py create_from_images ./datasets/birdaus /content/drive/My\\ Drive/Datasets/birdsaus/sq-1024"
      ],
      "execution_count": null,
      "outputs": []
    },
    {
      "cell_type": "markdown",
      "metadata": {
        "id": "wwb9QpTD7hxO"
      },
      "source": [
        "#**TREINAR REDE**"
      ]
    },
    {
      "cell_type": "code",
      "metadata": {
        "id": "uOkX151B7kji"
      },
      "source": [
        "!python run_training.py --num-gpus=1 --data-dir=./datasets --config=config-f --dataset=NOMEDOBANCO --mirror-augment=true --metrics=ppl_wend"
      ],
      "execution_count": null,
      "outputs": []
    }
  ]
}